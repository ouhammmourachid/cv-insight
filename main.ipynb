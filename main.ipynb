{
 "cells": [
  {
   "cell_type": "code",
   "execution_count": 12,
   "metadata": {},
   "outputs": [],
   "source": [
    "from business_layer.utilities import *\n",
    "from business_layer.tools.functions import *"
   ]
  },
  {
   "cell_type": "code",
   "execution_count": 2,
   "metadata": {},
   "outputs": [
    {
     "name": "stderr",
     "output_type": "stream",
     "text": [
      "100%|██████████| 3/3 [00:36<00:00, 12.22s/it]\n"
     ]
    }
   ],
   "source": [
    "images = store_data_xl_dir('business_layer/cvs/cvs_folder','c++,c#,python,R')"
   ]
  },
  {
   "cell_type": "code",
   "execution_count": 3,
   "outputs": [
    {
     "data": {
      "text/plain": "[['OUSSAMA HRITA',\n  'hrita.oussama@ensam-casa.ma',\n  '+212658041493',\n  'RES AL HAMD GH3 IMM C Nº 11 AIN SBAA CASABLANCA',\n  'Intelligence artificielle & Génie informatique',\n  'Développeur Web (Stagiaire),',\n  \"Baccalauréat Sciences Mathématiques A,École d'ingénieur,2 Années préparatoires intégrées,2ème année Cycle d’ingénieur,\",\n  'Python,Java,C,C#,R,JEE,Hibernate,SpringBoot,SpringData,SpringSecurity,Laravel,ReactJS,Angular,HTML,CSS,JavaScript,PHP,Design pattern,UML,Merise,MongoDB,Oracle,MySQL,Ingénierie de Réalité Augmentée (AR),Arabe,Anglais,Français,',\n  array([[[255, 255, 255],\n          [255, 255, 255],\n          [255, 255, 255],\n          ...,\n          [255, 255, 255],\n          [255, 255, 255],\n          [255, 255, 255]],\n  \n         [[255, 255, 255],\n          [255, 255, 255],\n          [255, 255, 255],\n          ...,\n          [255, 255, 255],\n          [255, 255, 255],\n          [255, 255, 255]],\n  \n         [[255, 255, 255],\n          [255, 255, 255],\n          [255, 255, 255],\n          ...,\n          [255, 255, 255],\n          [255, 255, 255],\n          [255, 255, 255]],\n  \n         ...,\n  \n         [[ 41,  39,  38],\n          [ 42,  40,  39],\n          [ 43,  41,  40],\n          ...,\n          [ 28,  24,  23],\n          [ 28,  24,  23],\n          [ 25,  23,  22]],\n  \n         [[ 39,  37,  36],\n          [ 41,  39,  38],\n          [ 42,  40,  39],\n          ...,\n          [ 29,  25,  24],\n          [ 27,  23,  22],\n          [ 25,  23,  22]],\n  \n         [[ 38,  36,  35],\n          [ 39,  37,  36],\n          [ 41,  39,  38],\n          ...,\n          [ 30,  26,  25],\n          [ 28,  24,  23],\n          [ 26,  24,  23]]], dtype=uint8),\n  75.0]]"
     },
     "execution_count": 3,
     "metadata": {},
     "output_type": "execute_result"
    }
   ],
   "source": [
    "images"
   ],
   "metadata": {
    "collapsed": false
   }
  },
  {
   "cell_type": "code",
   "execution_count": 7,
   "outputs": [],
   "source": [
    "array_to_img(images[0][-2],'./website/static/website/image.jpg')"
   ],
   "metadata": {
    "collapsed": false
   }
  },
  {
   "cell_type": "code",
   "execution_count": 11,
   "outputs": [
    {
     "data": {
      "text/plain": "[['OUSSAMA HRITA',\n  'hrita.oussama@ensam-casa.ma',\n  '+212658041493',\n  'RES AL HAMD GH3 IMM C Nº 11 AIN SBAA CASABLANCA',\n  'Intelligence artificielle & Génie informatique',\n  'Développeur Web (Stagiaire),',\n  \"Baccalauréat Sciences Mathématiques A,École d'ingénieur,2 Années préparatoires intégrées,2ème année Cycle d’ingénieur,\",\n  'Python,Java,C,C#,R,JEE,Hibernate,SpringBoot,SpringData,SpringSecurity,Laravel,ReactJS,Angular,HTML,CSS,JavaScript,PHP,Design pattern,UML,Merise,MongoDB,Oracle,MySQL,Ingénierie de Réalité Augmentée (AR),Arabe,Anglais,Français,',\n  array([[[255, 255, 255],\n          [255, 255, 255],\n          [255, 255, 255],\n          ...,\n          [255, 255, 255],\n          [255, 255, 255],\n          [255, 255, 255]],\n  \n         [[255, 255, 255],\n          [255, 255, 255],\n          [255, 255, 255],\n          ...,\n          [255, 255, 255],\n          [255, 255, 255],\n          [255, 255, 255]],\n  \n         [[255, 255, 255],\n          [255, 255, 255],\n          [255, 255, 255],\n          ...,\n          [255, 255, 255],\n          [255, 255, 255],\n          [255, 255, 255]],\n  \n         ...,\n  \n         [[ 41,  39,  38],\n          [ 42,  40,  39],\n          [ 43,  41,  40],\n          ...,\n          [ 28,  24,  23],\n          [ 28,  24,  23],\n          [ 25,  23,  22]],\n  \n         [[ 39,  37,  36],\n          [ 41,  39,  38],\n          [ 42,  40,  39],\n          ...,\n          [ 29,  25,  24],\n          [ 27,  23,  22],\n          [ 25,  23,  22]],\n  \n         [[ 38,  36,  35],\n          [ 39,  37,  36],\n          [ 41,  39,  38],\n          ...,\n          [ 30,  26,  25],\n          [ 28,  24,  23],\n          [ 26,  24,  23]]], dtype=uint8),\n  75.0]]"
     },
     "execution_count": 11,
     "metadata": {},
     "output_type": "execute_result"
    }
   ],
   "source": [
    "store_data_xl_file(\"./uploaded/cv3.pdf\", \"c++,python,c#,java\")"
   ],
   "metadata": {
    "collapsed": false
   }
  },
  {
   "cell_type": "code",
   "execution_count": 14,
   "outputs": [
    {
     "name": "stderr",
     "output_type": "stream",
     "text": [
      "100%|██████████| 2/2 [00:17<00:00,  8.81s/it]\n"
     ]
    }
   ],
   "source": [
    "data = store_data_xl_dir('./uploaded/cvs',\"python,c#,c++\")"
   ],
   "metadata": {
    "collapsed": false
   }
  },
  {
   "cell_type": "code",
   "execution_count": 18,
   "outputs": [
    {
     "data": {
      "text/plain": "1"
     },
     "execution_count": 18,
     "metadata": {},
     "output_type": "execute_result"
    }
   ],
   "source": [
    "len(data)"
   ],
   "metadata": {
    "collapsed": false
   }
  },
  {
   "cell_type": "code",
   "execution_count": 19,
   "outputs": [
    {
     "data": {
      "text/plain": "['KIMIT YOUSSEF',\n 'youssefkimit02@gmail.com',\n '06 57 17 43 60',\n 'Hay Angrit Rue 7  N° 6, Casablanca, Maroc',\n 'Elève ingénieur en Intelligence Artificielle et Génie Informatique',\n 'Stagiaire Développeur chez GSDEV, Derb-Omar, Casablanca, Maroc.,',\n \"Cycle d’ingénieur : 2ème année cycle d’ingénieur dans l’Intelligence Artificielle et Génie Informatique à l'ENSAM de Casablanca.,Cycle d’ingénieur : 1ère année cycle d’ingénieur dans l’Intelligence Artificielle et Génie Informatique à l'ENSAM de Casablanca.,Diplôme d'études universitaires générales : DEUG , Sciences Mathématiques et Informatique (SMI) à la Faculté des sciences Ain Chock.,Diplôme de Baccalauréat en Science physiques,\",\n \"Java,Python,R,C,C#,PHP,Javascript,Angular,React,Spring Boot,Hibernate,Bootstrap,NumPy,Pandas,Matplotlib,Seaborn,Scikit-Learn,MySQL,Oracle,MongoDB,développement d'applications mobiles avec Java,Connaissance de la plateforme Unity et de son fonctionnement pour le développement d'applications AR et de jeux,HCIA-5G Huawei Certification,Teamwork Skills,Design Thinking for Innovation,CLA: Programming Essentials in C,NDG Linux Unhatched,Engagement,Ponctualité,Adaptabilité,Esprit d'équipe,Volonté d’apprendre,Capacité d’écoute,\",\n array([[[232, 231, 233],\n         [232, 231, 233],\n         [232, 231, 233],\n         ...,\n         [ 77,  66,  58],\n         [ 74,  59,  50],\n         [ 76,  62,  50]],\n \n        [[232, 231, 233],\n         [232, 231, 233],\n         [232, 231, 233],\n         ...,\n         [ 90,  83,  74],\n         [ 69,  58,  50],\n         [ 69,  57,  47]],\n \n        [[232, 231, 233],\n         [232, 231, 233],\n         [232, 231, 233],\n         ...,\n         [235, 232, 224],\n         [132, 122, 115],\n         [ 87,  76,  68]],\n \n        ...,\n \n        [[ 61,  52,  49],\n         [ 59,  50,  47],\n         [ 57,  48,  45],\n         ...,\n         [206, 204, 204],\n         [235, 235, 235],\n         [241, 241, 241]],\n \n        [[ 58,  49,  46],\n         [ 55,  46,  43],\n         [ 53,  44,  41],\n         ...,\n         [140, 138, 138],\n         [162, 162, 162],\n         [182, 182, 182]],\n \n        [[ 53,  44,  41],\n         [ 50,  41,  38],\n         [ 47,  38,  35],\n         ...,\n         [ 65,  63,  63],\n         [ 85,  85,  85],\n         [114, 114, 114]]], dtype=uint8),\n 66.66666666666667]"
     },
     "execution_count": 19,
     "metadata": {},
     "output_type": "execute_result"
    }
   ],
   "source": [
    "data[0]"
   ],
   "metadata": {
    "collapsed": false
   }
  },
  {
   "cell_type": "code",
   "execution_count": 21,
   "outputs": [],
   "source": [
    "array_to_img(data[0][-2], './website/static/website/'+'_'.join(data[0][0].split())+\".png\")"
   ],
   "metadata": {
    "collapsed": false
   }
  },
  {
   "cell_type": "code",
   "execution_count": 22,
   "outputs": [],
   "source": [
    "file_name = f'./uploaded/cvs/cv4.pdf'\n",
    "data = store_data_xl_file(file_name,'python')"
   ],
   "metadata": {
    "collapsed": false
   }
  },
  {
   "cell_type": "code",
   "execution_count": 23,
   "outputs": [
    {
     "data": {
      "text/plain": "[['RACHID OUHAMMOU',\n  'rachidouhammou21@gmail.com',\n  '0659190626',\n  'Casablanca Maarif',\n  'Ingénieur en intelligence artificielle et génie informatique',\n  'Application desktop avec Tkinter,E-learning website:,Le célèbre jeu de la vie:,Le célèbre snake game :,Optimisation de flot sur un réseau de transport.,Website clone:,Application pour résoudre wordle game.,',\n  \"Classes préparatoires aux grandes écoles,Cycle d'ingénieur en intelligence artificielle et génie informatique,\",\n  'Python,Java,PHP,Mysql,HTML/CSS,C/C++,Machine learning,Deep learning,Javascript,linux,UML,merise,django,Matlab,Français,Anglais,Arabe,NDG Linux Unhatched,CLA Programming Essentials in C,PCAP Programming Essentials in Pythoon,JavaScript Essentials 1 (JSE),Teamwork Skills,Design Thinking for Innovation,HCIA 5G,',\n  array([[[191, 191, 191],\n          [191, 191, 191],\n          [191, 191, 191],\n          ...,\n          [191, 191, 191],\n          [191, 191, 191],\n          [191, 191, 191]],\n  \n         [[191, 191, 191],\n          [191, 191, 191],\n          [191, 191, 191],\n          ...,\n          [191, 191, 191],\n          [191, 191, 191],\n          [191, 191, 191]],\n  \n         [[191, 191, 191],\n          [191, 191, 191],\n          [191, 191, 191],\n          ...,\n          [191, 191, 191],\n          [191, 191, 191],\n          [191, 191, 191]],\n  \n         ...,\n  \n         [[191, 191, 191],\n          [191, 191, 191],\n          [191, 191, 191],\n          ...,\n          [191, 191, 191],\n          [191, 191, 191],\n          [191, 191, 191]],\n  \n         [[191, 191, 191],\n          [191, 191, 191],\n          [191, 191, 191],\n          ...,\n          [191, 191, 191],\n          [191, 191, 191],\n          [191, 191, 191]],\n  \n         [[191, 191, 191],\n          [191, 191, 191],\n          [191, 191, 191],\n          ...,\n          [191, 191, 191],\n          [191, 191, 191],\n          [191, 191, 191]]], dtype=uint8),\n  100.0]]"
     },
     "execution_count": 23,
     "metadata": {},
     "output_type": "execute_result"
    }
   ],
   "source": [
    "data"
   ],
   "metadata": {
    "collapsed": false
   }
  },
  {
   "cell_type": "code",
   "execution_count": null,
   "outputs": [],
   "source": [],
   "metadata": {
    "collapsed": false
   }
  }
 ],
 "metadata": {
  "kernelspec": {
   "display_name": "Python 3",
   "language": "python",
   "name": "python3"
  },
  "language_info": {
   "codemirror_mode": {
    "name": "ipython",
    "version": 3
   },
   "file_extension": ".py",
   "mimetype": "text/x-python",
   "name": "python",
   "nbconvert_exporter": "python",
   "pygments_lexer": "ipython3",
   "version": "3.8.0"
  },
  "orig_nbformat": 4
 },
 "nbformat": 4,
 "nbformat_minor": 2
}
